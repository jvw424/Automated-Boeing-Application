{
 "cells": [
  {
   "cell_type": "code",
   "execution_count": 1,
   "metadata": {},
   "outputs": [],
   "source": [
    "from datetime import date\n",
    "from seleniumbase import SB\n",
    "\n",
    "import os.path\n",
    "import pickle\n",
    "# from selenium import webdriver\n",
    "# from selenium.webdriver.chrome.options import Options"
   ]
  },
  {
   "cell_type": "code",
   "execution_count": null,
   "metadata": {},
   "outputs": [],
   "source": [
    "# Minimal settings\n",
    "selenium_cookie_file = '/home/selenium/test.txt'\n",
    "\n",
    "def save_cookies(sb):\n",
    "    print(\"Saving cookies in \" + selenium_cookie_file)\n",
    "    pickle.dump(sb.get_cookies() , open(selenium_cookie_file,\"wb\"))\n",
    "\n",
    "def load_cookies(sb):\n",
    "    if os.path.exists(selenium_cookie_file) and os.path.isfile(selenium_cookie_file):\n",
    "        print(\"Loading cookies from \" + selenium_cookie_file)\n",
    "        cookies = pickle.load(open(selenium_cookie_file, \"rb\"))\n",
    "\n",
    "        # Enables network tracking so we may use Network.setCookie method\n",
    "        sb.execute_cdp_cmd('Network.enable', {})\n",
    "\n",
    "        # Iterate through pickle dict and add all the cookies\n",
    "        for cookie in cookies:\n",
    "            # Fix issue Chrome exports 'expiry' key but expects 'expire' on import\n",
    "            if 'expiry' in cookie:\n",
    "                cookie['expires'] = cookie['expiry']\n",
    "                del cookie['expiry']\n",
    "\n",
    "            # Replace domain 'apple.com' with 'microsoft.com' cookies\n",
    "            cookie['domain'] = cookie['domain'].replace('apple.com', 'microsoft.com')\n",
    "\n",
    "            # Set the actual cookie\n",
    "            sb.execute_cdp_cmd('Network.setCookie', cookie)\n",
    "\n",
    "        # Disable network tracking\n",
    "        sb.execute_cdp_cmd('Network.disable', {})\n",
    "        return 1\n",
    "\n",
    "    print(\"Cookie file \" + selenium_cookie_file + \" does not exist.\")\n",
    "    return 0\n",
    "\n",
    "def pretty_print(pdict):\n",
    "    for p in pdict:\n",
    "        print(str(p))\n",
    "    print('',end = \"\\n\\n\")\n"
   ]
  },
  {
   "cell_type": "code",
   "execution_count": null,
   "metadata": {},
   "outputs": [],
   "source": [
    "\n",
    "# Minimal settings\n",
    "selenium_cookie_file = '/home/selenium/test.txt'\n",
    "\n",
    "with SB(uc=True, test=True) as sb:\n",
    "        \n",
    "        sb.driver.uc_open_with_tab(https://apple.com/)\n",
    "        save_cookies(sb)\n",
    "        pretty_print(sb.get_cookies())\n",
    "\n",
    "\n",
    "        # Rewrite driver with a new one, load and set cookies before any requests\n",
    "        driver = webdriver.Chrome(chrome_options=browser_options)\n",
    "        load_cookies()\n",
    "        driver.get('https://microsoft.com')\n",
    "        pretty_print(driver.get_cookies())"
   ]
  },
  {
   "cell_type": "code",
   "execution_count": null,
   "metadata": {},
   "outputs": [],
   "source": [
    "def apply(link):\n",
    "\n",
    "    with SB(uc=True, test=True) as sb:\n",
    "        \n",
    "        sb.driver.uc_open_with_tab(link)\n",
    "        sb.wait_for_element('a.button.job-apply.top')\n",
    "\n",
    "        sb.click('a.button.job-apply.top')\n",
    "        sb.wait_for_element('div.css-1n9xe37')\n",
    "\n",
    "        #Email and password for workday\n",
    "        #TODO input your own credentials\n",
    "        sb.type('#input-4','')\n",
    "        sb.sleep(.5)\n",
    "        sb.type('#input-5','')\n",
    "        sb.sleep(.5)"
   ]
  }
 ],
 "metadata": {
  "kernelspec": {
   "display_name": "Python 3",
   "language": "python",
   "name": "python3"
  },
  "language_info": {
   "codemirror_mode": {
    "name": "ipython",
    "version": 3
   },
   "file_extension": ".py",
   "mimetype": "text/x-python",
   "name": "python",
   "nbconvert_exporter": "python",
   "pygments_lexer": "ipython3",
   "version": "3.11.5"
  },
  "orig_nbformat": 4
 },
 "nbformat": 4,
 "nbformat_minor": 2
}
